{
 "cells": [
  {
   "cell_type": "markdown",
   "id": "c6a3d084",
   "metadata": {},
   "source": []
  }
 ],
 "metadata": {
  "language_info": {
   "name": "python"
  }
 },
 "nbformat": 4,
 "nbformat_minor": 5
}
