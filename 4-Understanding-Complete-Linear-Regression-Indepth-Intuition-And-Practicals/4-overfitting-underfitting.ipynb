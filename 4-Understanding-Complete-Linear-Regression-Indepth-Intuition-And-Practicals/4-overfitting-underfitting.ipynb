{
 "cells": [
  {
   "cell_type": "markdown",
   "id": "0a2aa792",
   "metadata": {},
   "source": [
    "# 📈 Overfitting and Underfitting\n",
    "\n",
    "---\n",
    "\n",
    "## Visual Notes\n",
    "\n",
    "<img src='img/overfitting-underfitting-1.png'>\n",
    "<br>\n",
    "<img src='img/overfitting-underfitting-2.png'>\n",
    "\n",
    "---"
   ]
  },
  {
   "cell_type": "markdown",
   "id": "ab86f011",
   "metadata": {},
   "source": [
    "\n",
    "## What are Overfitting and Underfitting?\n",
    "\n",
    "- **Overfitting** occurs when a model learns the training data too well, including its noise and outliers. It performs very well on the training set but poorly on new, unseen data (test set). This means the model has **low bias** but **high variance**.\n",
    "- **Underfitting** happens when a model is too simple to capture the underlying pattern of the data. It performs poorly on both the training and test sets. This means the model has **high bias** and **high variance**.\n",
    "\n",
    "---\n",
    "\n",
    "## Bias and Variance\n",
    "\n",
    "- **Bias** is the error due to overly simplistic assumptions in the learning algorithm. High bias can cause the model to miss relevant relations (underfitting).\n",
    "- **Variance** is the error due to too much complexity in the learning algorithm. High variance can cause the model to model the random noise in the training data (overfitting).\n",
    "- The goal is to find a balance: **Low Bias, Low Variance** (a generalized model).\n",
    "\n",
    "---\n",
    "\n",
    "## Train, Test, and Validation Sets\n",
    "\n",
    "- The dataset is typically split into:\n",
    "  - **Training set:** Used to train the model.\n",
    "  - **Validation set:** Used to tune hyperparameters and validate the model during training.\n",
    "  - **Test set:** Used to evaluate the final model's performance on unseen data.\n",
    "- A common split is **70% training, 30% test**.\n",
    "- Sometimes, the training set is further split into training and validation sets.\n",
    "\n",
    "---\n",
    "\n",
    "## How to Identify Overfitting and Underfitting\n",
    "\n",
    "- **Generalized Model:**\n",
    "  - High accuracy on both train and test sets (e.g., 90% train, 88% test)\n",
    "  - Indicates low bias and low variance.\n",
    "- **Overfitting:**\n",
    "  - High accuracy on train set (e.g., 90%) but low accuracy on test set (e.g., 50%)\n",
    "  - Indicates low bias, high variance.\n",
    "- **Underfitting:**\n",
    "  - Low accuracy on both train and test sets\n",
    "  - Indicates high bias, high variance.\n",
    "\n",
    "---\n",
    "\n",
    "## Visual Summary\n",
    "\n",
    "- A generalized model fits the data well without capturing noise (low bias, low variance).\n",
    "- An overfitted model fits the training data too closely, failing to generalize (low bias, high variance).\n",
    "- An underfitted model fails to capture the underlying trend (high bias, high variance).\n",
    "\n",
    "---\n",
    "\n",
    "**Key Takeaway:**\n",
    "- Always aim for a model that generalizes well: not too simple (underfitting) and not too complex (overfitting).\n",
    "- Use validation techniques and regularization to help achieve this balance."
   ]
  }
 ],
 "metadata": {
  "language_info": {
   "name": "python"
  }
 },
 "nbformat": 4,
 "nbformat_minor": 5
}
